{
 "cells": [
  {
   "cell_type": "code",
   "execution_count": 10,
   "id": "966d09c8-5345-40f6-9e9c-9546df99560e",
   "metadata": {},
   "outputs": [
    {
     "name": "stdout",
     "output_type": "stream",
     "text": [
      "               MW  NumOfAtoms  NumOfC  NumOfO  NumOfN  NumHBondDonors  \\\n",
      "0      224.016832          23       6       9       0               4   \n",
      "1      310.064845          35       9      10       2               1   \n",
      "2      368.033938          37      10      13       2               1   \n",
      "3      299.012475          29       7      12       1               4   \n",
      "4      202.011353          20       7       7       0               1   \n",
      "...           ...         ...     ...     ...     ...             ...   \n",
      "26632  221.017166          22       6       8       1               1   \n",
      "26633  222.001182          21       6       9       0               3   \n",
      "26634  287.012475          28       6      12       1               4   \n",
      "26635  284.996825          26       6      12       1               3   \n",
      "26636  267.022645          27       7      10       1               2   \n",
      "\n",
      "       NumOfConf  NumOfConfUsed parentspecies  C=C (non-aromatic)  ...  ester  \\\n",
      "0          485.0           40.0       toluene                   0  ...      0   \n",
      "1          236.0           40.0          apin                   0  ...      0   \n",
      "2          308.0           40.0          apin                   0  ...      0   \n",
      "3          769.0            3.0       toluene                   0  ...      0   \n",
      "4           77.0           32.0       toluene                   0  ...      0   \n",
      "...          ...            ...           ...                 ...  ...    ...   \n",
      "26632       47.0           37.0       toluene                   0  ...      0   \n",
      "26633      323.0           12.0       toluene                   0  ...      0   \n",
      "26634      362.0           11.0       toluene                   0  ...      0   \n",
      "26635      322.0           35.0       toluene                   0  ...      0   \n",
      "26636      144.0           23.0          apin                   0  ...      0   \n",
      "\n",
      "       ether (alicyclic)  nitrate  nitro  aromatic hydroxyl  \\\n",
      "0                      1        0      0                  0   \n",
      "1                      0        2      0                  0   \n",
      "2                      0        1      0                  0   \n",
      "3                      0        1      0                  0   \n",
      "4                      1        0      0                  0   \n",
      "...                  ...      ...    ...                ...   \n",
      "26632                  1        1      0                  0   \n",
      "26633                  0        0      0                  0   \n",
      "26634                  0        1      0                  0   \n",
      "26635                  0        1      0                  0   \n",
      "26636                  0        0      0                  0   \n",
      "\n",
      "       carbonylperoxynitrate  peroxide  hydroperoxide  carbonylperoxyacid  \\\n",
      "0                          0         0              2                   0   \n",
      "1                          0         0              1                   0   \n",
      "2                          1         0              1                   0   \n",
      "3                          0         0              1                   1   \n",
      "4                          0         0              1                   0   \n",
      "...                      ...       ...            ...                 ...   \n",
      "26632                      0         0              1                   0   \n",
      "26633                      0         1              0                   0   \n",
      "26634                      0         1              2                   0   \n",
      "26635                      0         1              1                   1   \n",
      "26636                      1         0              0                   1   \n",
      "\n",
      "       nitroester  \n",
      "0               0  \n",
      "1               0  \n",
      "2               0  \n",
      "3               0  \n",
      "4               0  \n",
      "...           ...  \n",
      "26632           0  \n",
      "26633           0  \n",
      "26634           0  \n",
      "26635           0  \n",
      "26636           0  \n",
      "\n",
      "[26637 rows x 25 columns]\n"
     ]
    }
   ],
   "source": [
    "import pandas as pd\n",
    "import numpy as np\n",
    "from sklearn.dummy import DummyRegressor\n",
    "from sklearn.linear_model import LinearRegression, Ridge, Lasso\n",
    "from sklearn.svm import SVR\n",
    "from sklearn.ensemble import GradientBoostingRegressor\n",
    "from sklearn.model_selection import train_test_split, cross_val_score\n",
    "from sklearn.metrics import r2_score, mean_squared_error\n",
    "from sklearn.preprocessing import OneHotEncoder, StandardScaler\n",
    "from sklearn.pipeline import make_pipeline\n",
    "\n",
    "# Load datasets\n",
    "train_given = pd.read_csv('train.csv')\n",
    "test_given = pd.read_csv('test.csv')\n",
    "\n",
    "# Split features and target\n",
    "X_train = train_given.drop(columns=['ID', 'log_pSat_Pa'])\n",
    "y_train = train_given['log_pSat_Pa']\n",
    "X_test = test_given.drop(columns=['ID'])\n",
    "print(X_train)\n",
    "\n"
   ]
  },
  {
   "cell_type": "code",
   "execution_count": 11,
   "id": "194ce80b-dbf0-4aad-b6cb-9b82459ca4b7",
   "metadata": {},
   "outputs": [
    {
     "name": "stdout",
     "output_type": "stream",
     "text": [
      "R² score of Dummy model: -0.0014\n",
      "MSE of Dummy model: 9.7658\n",
      "Cross-Validation R² scores for Dummy model: [-2.69698919e-04 -3.37360710e-04 -2.34260205e-06 -2.00823926e-04\n",
      " -1.97508581e-04]\n"
     ]
    },
    {
     "name": "stderr",
     "output_type": "stream",
     "text": [
      "C:\\Users\\Abdul\\anaconda3\\Lib\\site-packages\\sklearn\\preprocessing\\_encoders.py:868: FutureWarning: `sparse` was renamed to `sparse_output` in version 1.2 and will be removed in 1.4. `sparse_output` is ignored unless you leave `sparse` to its default value.\n",
      "  warnings.warn(\n"
     ]
    }
   ],
   "source": [
    "# Handle categorical columns\n",
    "cat_col = X_train.select_dtypes(include=['object']).columns\n",
    "X_train[cat_col] = X_train[cat_col].fillna('unknown')\n",
    "X_test[cat_col] = X_test[cat_col].fillna('unknown')\n",
    "\n",
    "# Encode categorical features\n",
    "enc = OneHotEncoder(handle_unknown='ignore', sparse=False)\n",
    "X_train_enc = enc.fit_transform(X_train[cat_col])\n",
    "X_test_enc = enc.transform(X_test[cat_col])\n",
    "\n",
    "# Handle numeric features\n",
    "X_train_numeric = X_train.drop(columns=cat_col).fillna(0)\n",
    "X_test_numeric = X_test.drop(columns=cat_col).fillna(0)\n",
    "\n",
    "# Combine encoded and numeric features\n",
    "X_train_preproc = np.hstack((X_train_numeric.values, X_train_enc))\n",
    "X_test_preproc = np.hstack((X_test_numeric.values, X_test_enc))\n",
    "\n",
    "# Split training data into train and validation sets\n",
    "X_train_split, X_val_split, y_train_split, y_val_split = train_test_split(\n",
    "    X_train_preproc, y_train, test_size=0.2, random_state=42\n",
    ")\n",
    "\n",
    "# Dummy Regressor\n",
    "dummy_model = DummyRegressor(strategy='mean')\n",
    "dummy_model.fit(X_train_split, y_train_split)\n",
    "y_val_pred_dummy = dummy_model.predict(X_val_split)\n",
    "\n",
    "r2_dummy = r2_score(y_val_split, y_val_pred_dummy)\n",
    "mse_dummy = mean_squared_error(y_val_split, y_val_pred_dummy)\n",
    "cv_scores_dummy = cross_val_score(dummy_model, X_train_preproc, y_train, scoring='r2', cv=5)\n",
    "\n",
    "print(f\"R² score of Dummy model: {r2_dummy:.4f}\")\n",
    "print(f\"MSE of Dummy model: {mse_dummy:.4f}\")\n",
    "print(f\"Cross-Validation R² scores for Dummy model: {cv_scores_dummy}\")\n"
   ]
  },
  {
   "cell_type": "code",
   "execution_count": 12,
   "id": "68aa94dc-9b91-48ff-bf8f-82f36b08c7eb",
   "metadata": {},
   "outputs": [
    {
     "name": "stdout",
     "output_type": "stream",
     "text": [
      "R² score of OLS model: 0.7032\n",
      "MSE of OLS model: 2.8941\n",
      "Cross-Validation R² scores for OLS model: [0.71787076 0.69696504 0.70634604 0.69692332 0.71127702]\n"
     ]
    }
   ],
   "source": [
    "\n",
    "# OLS Regression\n",
    "ols_model = LinearRegression()\n",
    "ols_model.fit(X_train_split, y_train_split)\n",
    "y_val_pred_ols = ols_model.predict(X_val_split)\n",
    "\n",
    "r2_ols = r2_score(y_val_split, y_val_pred_ols)\n",
    "mse_ols = mean_squared_error(y_val_split, y_val_pred_ols)\n",
    "cv_scores_ols = cross_val_score(ols_model, X_train_preproc, y_train, scoring='r2', cv=5)\n",
    "\n",
    "print(f\"R² score of OLS model: {r2_ols:.4f}\")\n",
    "print(f\"MSE of OLS model: {mse_ols:.4f}\")\n",
    "print(f\"Cross-Validation R² scores for OLS model: {cv_scores_ols}\")\n"
   ]
  },
  {
   "cell_type": "code",
   "execution_count": 13,
   "id": "3bead6cb-914d-4d51-8ddd-c74baf5c52c3",
   "metadata": {},
   "outputs": [
    {
     "name": "stdout",
     "output_type": "stream",
     "text": [
      "R² score of SVR model: 0.7401\n",
      "MSE of SVR model: 2.5348\n",
      "Cross-Validation R² scores for SVR model: [0.75511792 0.73485884 0.74398503 0.73103913 0.75049404]\n"
     ]
    }
   ],
   "source": [
    "\n",
    "# Support Vector Regression (SVR)\n",
    "svr_model = make_pipeline(StandardScaler(), SVR(kernel='rbf', C=1.0, epsilon=0.1))\n",
    "svr_model.fit(X_train_split, y_train_split)\n",
    "y_val_pred_svr = svr_model.predict(X_val_split)\n",
    "\n",
    "r2_svr = r2_score(y_val_split, y_val_pred_svr)\n",
    "mse_svr = mean_squared_error(y_val_split, y_val_pred_svr)\n",
    "cv_scores_svr = cross_val_score(svr_model, X_train_preproc, y_train, scoring='r2', cv=5)\n",
    "\n",
    "print(f\"R² score of SVR model: {r2_svr:.4f}\")\n",
    "print(f\"MSE of SVR model: {mse_svr:.4f}\")\n",
    "print(f\"Cross-Validation R² scores for SVR model: {cv_scores_svr}\")\n"
   ]
  },
  {
   "cell_type": "code",
   "execution_count": 15,
   "id": "bbcac4fc-337e-4157-a433-cd7b81a66a11",
   "metadata": {},
   "outputs": [
    {
     "name": "stdout",
     "output_type": "stream",
     "text": [
      "R² score of Ridge model: 0.7033\n",
      "MSE of Ridge model: 2.8939\n",
      "Cross-Validation R² scores for Ridge model: [0.71786362 0.69697693 0.70641042 0.69691826 0.71129616]\n"
     ]
    }
   ],
   "source": [
    "\n",
    "\n",
    "# Ridge Regression\n",
    "ridge_model = Ridge(alpha=1.0)\n",
    "ridge_model.fit(X_train_split, y_train_split)\n",
    "y_val_pred_ridge = ridge_model.predict(X_val_split)\n",
    "\n",
    "r2_ridge = r2_score(y_val_split, y_val_pred_ridge)\n",
    "mse_ridge = mean_squared_error(y_val_split, y_val_pred_ridge)\n",
    "cv_scores_ridge = cross_val_score(ridge_model, X_train_preproc, y_train, scoring='r2', cv=5)\n",
    "\n",
    "print(f\"R² score of Ridge model: {r2_ridge:.4f}\")\n",
    "print(f\"MSE of Ridge model: {mse_ridge:.4f}\")\n",
    "print(f\"Cross-Validation R² scores for Ridge model: {cv_scores_ridge}\")\n"
   ]
  },
  {
   "cell_type": "code",
   "execution_count": 16,
   "id": "3af745c4-4122-44ab-a0a2-d91189a35062",
   "metadata": {},
   "outputs": [
    {
     "name": "stdout",
     "output_type": "stream",
     "text": [
      "R² score of Lasso model: 0.7007\n",
      "MSE of Lasso model: 2.9186\n",
      "Cross-Validation R² scores for Lasso model: [0.71609473 0.69538063 0.70379822 0.69384497 0.70970758]\n"
     ]
    }
   ],
   "source": [
    "\n",
    "# Lasso Regression\n",
    "lasso_model = Lasso(alpha=0.01)\n",
    "lasso_model.fit(X_train_split, y_train_split)\n",
    "y_val_pred_lasso = lasso_model.predict(X_val_split)\n",
    "\n",
    "r2_lasso = r2_score(y_val_split, y_val_pred_lasso)\n",
    "mse_lasso = mean_squared_error(y_val_split, y_val_pred_lasso)\n",
    "cv_scores_lasso = cross_val_score(lasso_model, X_train_preproc, y_train, scoring='r2', cv=5)\n",
    "\n",
    "print(f\"R² score of Lasso model: {r2_lasso:.4f}\")\n",
    "print(f\"MSE of Lasso model: {mse_lasso:.4f}\")\n",
    "print(f\"Cross-Validation R² scores for Lasso model: {cv_scores_lasso}\")\n"
   ]
  }
 ],
 "metadata": {
  "kernelspec": {
   "display_name": "Python 3 (ipykernel)",
   "language": "python",
   "name": "python3"
  },
  "language_info": {
   "codemirror_mode": {
    "name": "ipython",
    "version": 3
   },
   "file_extension": ".py",
   "mimetype": "text/x-python",
   "name": "python",
   "nbconvert_exporter": "python",
   "pygments_lexer": "ipython3",
   "version": "3.11.7"
  }
 },
 "nbformat": 4,
 "nbformat_minor": 5
}
